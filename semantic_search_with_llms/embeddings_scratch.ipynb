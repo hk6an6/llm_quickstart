{
 "cells": [
  {
   "cell_type": "code",
   "execution_count": 2,
   "metadata": {},
   "outputs": [
    {
     "name": "stderr",
     "output_type": "stream",
     "text": [
      "/Users/nico/pytorch/env/lib/python3.11/site-packages/transformers/utils/generic.py:309: UserWarning: torch.utils._pytree._register_pytree_node is deprecated. Please use torch.utils._pytree.register_pytree_node instead.\n",
      "  _torch_pytree._register_pytree_node(\n",
      "/Users/nico/pytorch/env/lib/python3.11/site-packages/transformers/utils/generic.py:309: UserWarning: torch.utils._pytree._register_pytree_node is deprecated. Please use torch.utils._pytree.register_pytree_node instead.\n",
      "  _torch_pytree._register_pytree_node(\n",
      "Batches: 100%|██████████| 1/1 [00:00<00:00, 20.66it/s]"
     ]
    },
    {
     "name": "stdout",
     "output_type": "stream",
     "text": [
      "(2, 768)\n"
     ]
    },
    {
     "name": "stderr",
     "output_type": "stream",
     "text": [
      "\n"
     ]
    }
   ],
   "source": [
    "# Using https://huggingface.co/sentence-transformers/multi-qa-mpnet-base-cos-v1\n",
    "\n",
    "# import the SentenceTransformer, a wrapper on top of the model\n",
    "from sentence_transformers import SentenceTransformer\n",
    "\n",
    "# get 'sentence-transformers/multi-qa-mpnet-base-cos-v1', a pretrained model\n",
    "model = SentenceTransformer(\n",
    "  'sentence-transformers/multi-qa-mpnet-base-cos-v1'\n",
    ")\n",
    "\n",
    "docs = [\n",
    "  \"A paragon of virtue\",\n",
    "  \"The hero of legend\"\n",
    "]\n",
    "\n",
    "# Note that there is a limit of 512 word pieces:\n",
    "# Text longer than that will be truncated.\n",
    "# Further note that the model was just trained on\n",
    "# input text up to 250 word pieces.\n",
    "# It might not work well for longer text.\n",
    "\n",
    "embeddings = model.encode(\n",
    "  docs\n",
    "  , batch_size=32\n",
    "  , show_progress_bar=True\n",
    ")\n",
    "\n",
    "print(embeddings.shape)"
   ]
  }
 ],
 "metadata": {
  "kernelspec": {
   "display_name": "pytorch211",
   "language": "python",
   "name": "pytorch211"
  },
  "language_info": {
   "codemirror_mode": {
    "name": "ipython",
    "version": 3
   },
   "file_extension": ".py",
   "mimetype": "text/x-python",
   "name": "python",
   "nbconvert_exporter": "python",
   "pygments_lexer": "ipython3",
   "version": "3.11.6"
  }
 },
 "nbformat": 4,
 "nbformat_minor": 2
}
