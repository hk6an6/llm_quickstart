{
 "cells": [
  {
   "cell_type": "code",
   "execution_count": 10,
   "metadata": {},
   "outputs": [
    {
     "name": "stderr",
     "output_type": "stream",
     "text": [
      "Could not find image processor class in the image processor config or the model config. Loading based on pattern matching with the model's feature extractor configuration.\n",
      "/Users/nico/pytorch/env/lib/python3.11/site-packages/transformers/models/vit/feature_extraction_vit.py:28: FutureWarning: The class ViTFeatureExtractor is deprecated and will be removed in version 5 of Transformers. Please use ViTImageProcessor instead.\n",
      "  warnings.warn(\n",
      "/Users/nico/pytorch/env/lib/python3.11/site-packages/transformers/generation/utils.py:1355: UserWarning: Using the model-agnostic default `max_length` (=20) to control the generation length. We recommend setting `max_new_tokens` to control the maximum length of the generation.\n",
      "  warnings.warn(\n"
     ]
    },
    {
     "name": "stdout",
     "output_type": "stream",
     "text": [
      "The image shows: two birds are standing next to each other \n",
      "The category is: animals\n"
     ]
    }
   ],
   "source": [
    "from transformers import pipeline\n",
    "device_name=\"mps\" # change to 'mps' for apple silicon\n",
    "IMAGE_URL=\"https://huggingface.co/datasets/Narsil/image_dummy/raw/main/parrots.png\"\n",
    "\n",
    "# predict a caption for an image\n",
    "# using https://huggingface.co/nlpconnect/vit-gpt2-image-captioning\n",
    "captioner = pipeline(\"image-to-text\",\n",
    "                     model=\"nlpconnect/vit-gpt2-image-captioning\",\n",
    "                     device=device_name)\n",
    "# get caption for 2 parrots\n",
    "result = captioner(IMAGE_URL)\n",
    "image_caption = result[0][\"generated_text\"]\n",
    "print(f\"The image shows: {image_caption}\")\n",
    "\n",
    "# classify the image w/ zero shot classifier\n",
    "# using https://huggingface.co/facebook/bart-large-mnli\n",
    "classifier = pipeline(\"zero-shot-classification\",\n",
    "                      model=\"facebook/bart-large-mnli\",\n",
    "                      device=device_name)\n",
    "candidate_lablels = [\"potential fire\",\n",
    "                     \"pothole\",\n",
    "                     \"animals\",\n",
    "                     \"traffic jam\",\n",
    "                     \"broken streetlight\",\n",
    "                     \"graffiti\"]\n",
    "candidates = classifier(image_caption, candidate_lablels)\n",
    "top_label = candidates[\"labels\"][0]\n",
    "print(f\"The category is: {top_label}\")"
   ]
  },
  {
   "cell_type": "code",
   "execution_count": 14,
   "metadata": {},
   "outputs": [
    {
     "name": "stdout",
     "output_type": "stream",
     "text": [
      "Predicted answer: 2\n"
     ]
    }
   ],
   "source": [
    "from transformers import ViltProcessor, ViltForQuestionAnswering\n",
    "import requests\n",
    "from PIL import Image\n",
    "\n",
    "clarifying_question = f\"How many {top_label} are there?\"\n",
    "\n",
    "image = Image.open(requests.get(IMAGE_URL, stream=True).raw)\n",
    "image = image.convert(\"RGB\")\n",
    "\n",
    "processor = ViltProcessor.from_pretrained(\"dandelin/vilt-b32-finetuned-vqa\")\n",
    "model = ViltForQuestionAnswering.from_pretrained(\"dandelin/vilt-b32-finetuned-vqa\")\n",
    "\n",
    "# prepare inputs\n",
    "encoding = processor(image, clarifying_question, return_tensors=\"pt\")\n",
    "\n",
    "# forward pass\n",
    "outputs = model(**encoding)\n",
    "logits = outputs.logits\n",
    "idx = logits.argmax(-1).item()\n",
    "print(\"Predicted answer:\", model.config.id2label[idx])"
   ]
  }
 ],
 "metadata": {
  "kernelspec": {
   "display_name": "pytorch211",
   "language": "python",
   "name": "pytorch211"
  },
  "language_info": {
   "codemirror_mode": {
    "name": "ipython",
    "version": 3
   },
   "file_extension": ".py",
   "mimetype": "text/x-python",
   "name": "python",
   "nbconvert_exporter": "python",
   "pygments_lexer": "ipython3",
   "version": "3.11.6"
  }
 },
 "nbformat": 4,
 "nbformat_minor": 2
}
